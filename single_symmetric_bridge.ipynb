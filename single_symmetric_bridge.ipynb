{
 "cells": [
  {
   "cell_type": "code",
   "execution_count": 204,
   "metadata": {},
   "outputs": [
    {
     "name": "stdout",
     "output_type": "stream",
     "text": [
      "Left: 192\tRight: 9808\n",
      "\n"
     ]
    }
   ],
   "source": [
    "import random as rnd\n",
    "\n",
    "# The number of ants\n",
    "m = 10000\n",
    "\n",
    "# Algorithm coefficients\n",
    "k = 20\n",
    "d = 2\n",
    "\n",
    "# Ants that have chosen the right (or left) branch\n",
    "Rm = 0\n",
    "Lm = 0\n",
    "\n",
    "for ant in range(0, m):\n",
    "    \n",
    "    # Probability of chosing the right branch for (m+1)th ant\n",
    "    P_R = (Rm + k)**d / ((Rm + k)**d + (Lm + k)**d)\n",
    "\n",
    "    # Random variable\n",
    "    aleph_one_coin_toss = rnd.random()\n",
    "\n",
    "    # Selection of path\n",
    "    if (coin_toss <= P_R):\n",
    "        Rm += 1\n",
    "    else:\n",
    "        Lm += 1\n",
    "        \n",
    "print(f'Left: {Lm}\\tRight: {Rm}\\n')"
   ]
  },
  {
   "cell_type": "code",
   "execution_count": null,
   "metadata": {},
   "outputs": [],
   "source": []
  }
 ],
 "metadata": {
  "kernelspec": {
   "display_name": "Python 3",
   "language": "python",
   "name": "python3"
  },
  "language_info": {
   "codemirror_mode": {
    "name": "ipython",
    "version": 3
   },
   "file_extension": ".py",
   "mimetype": "text/x-python",
   "name": "python",
   "nbconvert_exporter": "python",
   "pygments_lexer": "ipython3",
   "version": "3.8.3"
  }
 },
 "nbformat": 4,
 "nbformat_minor": 4
}
